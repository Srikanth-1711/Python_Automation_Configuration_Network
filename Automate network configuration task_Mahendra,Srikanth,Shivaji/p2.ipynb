{
 "cells": [
  {
   "cell_type": "code",
   "execution_count": 1,
   "metadata": {},
   "outputs": [
    {
     "name": "stdout",
     "output_type": "stream",
     "text": [
      "Error: [Errno 2] No such file or directory: 'test.log'\n"
     ]
    }
   ],
   "source": [
    "from paramiko import SSHClient, AutoAddPolicy, SSHException\n",
    "import os\n",
    "\n",
    "# Create an SSHClient instance to manage the connection\n",
    "client = SSHClient()\n",
    "client.set_missing_host_key_policy(AutoAddPolicy())  \n",
    "try:\n",
    "    # Connect to the remote device using its IP address, username, and password\n",
    "    with open('test.log','r') as f:\n",
    "        for i in f:\n",
    "            j=i.strip()\n",
    "            client.connect('10.233.68.92')\n",
    "            # Execute a command 'ls -l' on the remote server\n",
    "            stdin, stdout, stderr = client.exec_command('ls -l')\n",
    "            # Loop through the command's output  and print each line\n",
    "            for line in stdout:\n",
    "                l=line.strip()\n",
    "                with open('history.log','a') as f:\n",
    "                    f.write(l+'\\n')\n",
    "\n",
    "except SSHException as e:\n",
    "    print(f\"SSH Error: {e}\")\n",
    "except Exception as e:\n",
    "    print(f\"Error: {e}\")\n",
    "finally:\n",
    "    # Ensure the SSH connection is closed, regardless of whether the command succeeded or failed\n",
    "    client.close()\n",
    "\n",
    "\n",
    "\n"
   ]
  }
 ],
 "metadata": {
  "kernelspec": {
   "display_name": "Python 3",
   "language": "python",
   "name": "python3"
  },
  "language_info": {
   "codemirror_mode": {
    "name": "ipython",
    "version": 3
   },
   "file_extension": ".py",
   "mimetype": "text/x-python",
   "name": "python",
   "nbconvert_exporter": "python",
   "pygments_lexer": "ipython3",
   "version": "3.13.1"
  }
 },
 "nbformat": 4,
 "nbformat_minor": 2
}
